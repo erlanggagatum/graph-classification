{
 "cells": [
  {
   "cell_type": "markdown",
   "metadata": {},
   "source": [
    "# GraphSAGE experiment for graph classification\n",
    "\n",
    "Paper: https://proceedings.neurips.cc/paper/2017/file/5dd9db5e033da9c6fb5ba83c7a7ebea9-Paper.pdf\n",
    "<br>Article: https://medium.com/p/a9e7f9ecf9d7"
   ]
  },
  {
   "cell_type": "code",
   "execution_count": 168,
   "metadata": {},
   "outputs": [],
   "source": [
    "import torch\n",
    "import torch_geometric\n",
    "from torch_geometric.datasets import TUDataset\n",
    "from torch_geometric.loader import DataLoader\n",
    "\n",
    "import numpy as np\n",
    "import matplotlib.pyplot as plt\n",
    "import pandas as pd\n",
    "import math\n",
    "import random"
   ]
  },
  {
   "cell_type": "code",
   "execution_count": 169,
   "metadata": {},
   "outputs": [],
   "source": [
    "dataset = TUDataset(root=\"../data/TUDataset\", name='COLLAB')"
   ]
  },
  {
   "cell_type": "code",
   "execution_count": 3,
   "metadata": {},
   "outputs": [
    {
     "data": {
      "text/plain": [
       "'cuda:0'"
      ]
     },
     "execution_count": 3,
     "metadata": {},
     "output_type": "execute_result"
    }
   ],
   "source": [
    "# set CUDA\n",
    "device = \"cuda:0\" if (torch.cuda.is_available()) else \"cpu\"\n",
    "device"
   ]
  },
  {
   "cell_type": "markdown",
   "metadata": {},
   "source": [
    "Preprocessing (degree)"
   ]
  },
  {
   "cell_type": "code",
   "execution_count": 187,
   "metadata": {},
   "outputs": [],
   "source": [
    "max_degree = 0\n",
    "degs = []\n",
    "for data in dataset:\n",
    "    deg = torch_geometric.utils.degree(data.edge_index[1], num_nodes=data.num_nodes)\n",
    "    degs.extend(deg.numpy())\n",
    "    max_degree = max(max_degree, max(deg).item())\n",
    "# assign to one hot degree for each data (OneHotDegree receive maximum degree parameter)\n",
    "dataset.transform = torch_geometric.transforms.OneHotDegree(int(max_degree))"
   ]
  },
  {
   "cell_type": "markdown",
   "metadata": {},
   "source": [
    "EDA"
   ]
  },
  {
   "cell_type": "code",
   "execution_count": 55,
   "metadata": {},
   "outputs": [],
   "source": [
    "dict_degs = {}\n",
    "for d in degs:\n",
    "    if d not in dict_degs:\n",
    "        dict_degs[d] = 1\n",
    "    else:\n",
    "        dict_degs[d] += 1\n",
    "        \n",
    "list_degs = []\n",
    "list_num_degs = []\n",
    "\n",
    "for d in dict_degs:\n",
    "    list_degs.append(d)\n",
    "    list_num_degs.append(dict_degs[d])"
   ]
  },
  {
   "cell_type": "code",
   "execution_count": 59,
   "metadata": {},
   "outputs": [],
   "source": [
    "df_degs = pd.DataFrame(list(zip(list_degs, list_num_degs)), columns =['degree', 'count'])"
   ]
  },
  {
   "cell_type": "code",
   "execution_count": 89,
   "metadata": {},
   "outputs": [
    {
     "data": {
      "text/html": [
       "<div>\n",
       "<style scoped>\n",
       "    .dataframe tbody tr th:only-of-type {\n",
       "        vertical-align: middle;\n",
       "    }\n",
       "\n",
       "    .dataframe tbody tr th {\n",
       "        vertical-align: top;\n",
       "    }\n",
       "\n",
       "    .dataframe thead th {\n",
       "        text-align: right;\n",
       "    }\n",
       "</style>\n",
       "<table border=\"1\" class=\"dataframe\">\n",
       "  <thead>\n",
       "    <tr style=\"text-align: right;\">\n",
       "      <th></th>\n",
       "      <th>degree</th>\n",
       "      <th>count</th>\n",
       "    </tr>\n",
       "  </thead>\n",
       "  <tbody>\n",
       "    <tr>\n",
       "      <th>235</th>\n",
       "      <td>238.0</td>\n",
       "      <td>37231</td>\n",
       "    </tr>\n",
       "  </tbody>\n",
       "</table>\n",
       "</div>"
      ],
      "text/plain": [
       "     degree  count\n",
       "235   238.0  37231"
      ]
     },
     "execution_count": 89,
     "metadata": {},
     "output_type": "execute_result"
    }
   ],
   "source": [
    "df_degs[df_degs['count'] == 37231.0]"
   ]
  },
  {
   "cell_type": "code",
   "execution_count": 103,
   "metadata": {},
   "outputs": [
    {
     "data": {
      "text/html": [
       "<div>\n",
       "<style scoped>\n",
       "    .dataframe tbody tr th:only-of-type {\n",
       "        vertical-align: middle;\n",
       "    }\n",
       "\n",
       "    .dataframe tbody tr th {\n",
       "        vertical-align: top;\n",
       "    }\n",
       "\n",
       "    .dataframe thead th {\n",
       "        text-align: right;\n",
       "    }\n",
       "</style>\n",
       "<table border=\"1\" class=\"dataframe\">\n",
       "  <thead>\n",
       "    <tr style=\"text-align: right;\">\n",
       "      <th></th>\n",
       "      <th>degree</th>\n",
       "      <th>count</th>\n",
       "    </tr>\n",
       "  </thead>\n",
       "  <tbody>\n",
       "    <tr>\n",
       "      <th>0</th>\n",
       "      <td>1.0</td>\n",
       "      <td>1796</td>\n",
       "    </tr>\n",
       "    <tr>\n",
       "      <th>1</th>\n",
       "      <td>2.0</td>\n",
       "      <td>5747</td>\n",
       "    </tr>\n",
       "    <tr>\n",
       "      <th>2</th>\n",
       "      <td>3.0</td>\n",
       "      <td>8594</td>\n",
       "    </tr>\n",
       "    <tr>\n",
       "      <th>3</th>\n",
       "      <td>4.0</td>\n",
       "      <td>9397</td>\n",
       "    </tr>\n",
       "    <tr>\n",
       "      <th>4</th>\n",
       "      <td>5.0</td>\n",
       "      <td>9599</td>\n",
       "    </tr>\n",
       "  </tbody>\n",
       "</table>\n",
       "</div>"
      ],
      "text/plain": [
       "   degree  count\n",
       "0     1.0   1796\n",
       "1     2.0   5747\n",
       "2     3.0   8594\n",
       "3     4.0   9397\n",
       "4     5.0   9599"
      ]
     },
     "execution_count": 103,
     "metadata": {},
     "output_type": "execute_result"
    }
   ],
   "source": [
    "df_degs = df_degs.sort_values(by='degree').reset_index(drop=True)\n",
    "df_degs.head()"
   ]
  },
  {
   "cell_type": "code",
   "execution_count": 108,
   "metadata": {},
   "outputs": [
    {
     "data": {
      "text/plain": [
       "<BarContainer object of 369 artists>"
      ]
     },
     "execution_count": 108,
     "metadata": {},
     "output_type": "execute_result"
    },
    {
     "data": {
      "image/png": "[encoded data removed]",
      "text/plain": [
       "<Figure size 1000x500 with 1 Axes>"
      ]
     },
     "metadata": {},
     "output_type": "display_data"
    }
   ],
   "source": [
    "fig, ax = plt.subplots(figsize=(10,5))\n",
    "ax.set_xlabel('degree')\n",
    "ax.set_ylabel('count')\n",
    "ax.set_title('Number of degree')\n",
    "plt.bar(df_degs['degree'],\n",
    "        df_degs['count'])"
   ]
  },
  {
   "cell_type": "markdown",
   "metadata": {},
   "source": [
    "Train Test Split"
   ]
  },
  {
   "cell_type": "code",
   "execution_count": 163,
   "metadata": {},
   "outputs": [],
   "source": [
    "def train_test_split(dataset, ratio):\n",
    "    random.shuffle(dataset)\n",
    "    return dataset[:math.ceil(len(dataset) * ratio)], dataset[math.ceil(len(dataset) * ratio):]"
   ]
  },
  {
   "cell_type": "code",
   "execution_count": 164,
   "metadata": {},
   "outputs": [],
   "source": [
    "cuda_dataset = []\n",
    "for data in dataset:\n",
    "    cuda_dataset.append(data.to(torch.device(device)))"
   ]
  },
  {
   "cell_type": "code",
   "execution_count": 170,
   "metadata": {},
   "outputs": [
    {
     "name": "stdout",
     "output_type": "stream",
     "text": [
      "train dataset len:  3500\n",
      "test dataset len:  1500\n"
     ]
    }
   ],
   "source": [
    "train_dataset, test_dataset = train_test_split(cuda_dataset, 0.7)\n",
    "print('train dataset len: ', len(train_dataset))\n",
    "print('test dataset len: ', len(test_dataset))"
   ]
  },
  {
   "cell_type": "code",
   "execution_count": 171,
   "metadata": {},
   "outputs": [],
   "source": [
    "train_loader = DataLoader(train_dataset, batch_size=32, shuffle=True)\n",
    "test_loader = DataLoader(test_dataset, batch_size=32, shuffle=True)"
   ]
  },
  {
   "cell_type": "code",
   "execution_count": 172,
   "metadata": {},
   "outputs": [
    {
     "data": {
      "text/plain": [
       "Data(edge_index=[2, 858], y=[1], num_nodes=54, x=[54, 492])"
      ]
     },
     "execution_count": 172,
     "metadata": {},
     "output_type": "execute_result"
    }
   ],
   "source": [
    "train_dataset[0]"
   ]
  },
  {
   "cell_type": "code",
   "execution_count": 181,
   "metadata": {},
   "outputs": [
    {
     "name": "stdout",
     "output_type": "stream",
     "text": [
      "tensor([1, 2, 0, 2, 0, 0, 1, 0, 0, 1, 2, 2, 2, 0, 2, 0, 0, 0, 0, 2, 0, 0, 0, 0,\n",
      "        0, 0, 0, 2, 0, 0, 0, 0], device='cuda:0')\n",
      "tensor([2, 1, 2, 0, 0, 2, 1, 2, 2, 0, 0, 2, 0, 2, 1, 1, 0, 0, 2, 0, 2, 2, 0, 2,\n",
      "        2, 1, 0, 0, 0, 2, 0, 0], device='cuda:0')\n"
     ]
    }
   ],
   "source": [
    "for tl in train_loader:\n",
    "    print(tl.y)\n",
    "    break\n",
    "for tl in test_loader:\n",
    "    print(tl.y)\n",
    "    break"
   ]
  },
  {
   "cell_type": "markdown",
   "metadata": {},
   "source": [
    "Building Model"
   ]
  },
  {
   "cell_type": "code",
   "execution_count": 183,
   "metadata": {},
   "outputs": [],
   "source": [
    "from torch.nn import Linear\n",
    "import torch.nn.functional as F\n",
    "from torch_geometric.nn import GCNConv\n",
    "from torch_geometric.nn import GraphSAGE\n",
    "from torch_geometric.nn import global_mean_pool"
   ]
  },
  {
   "cell_type": "code",
   "execution_count": 221,
   "metadata": {},
   "outputs": [],
   "source": [
    "class GCN(torch.nn.Module):\n",
    "    def __init__(self, dataset, hidden_channels):\n",
    "        super(GCN, self).__init__()\n",
    "        torch.manual_seed(12345)\n",
    "        self.conv1 = GraphSAGE(dataset.num_node_features, hidden_channels, 1)\n",
    "        self.conv2 = GraphSAGE(hidden_channels, hidden_channels, 1)\n",
    "        self.conv3 = GraphSAGE(hidden_channels, hidden_channels, 1)\n",
    "        self.lin = Linear(hidden_channels, dataset.num_classes)\n",
    "    \n",
    "    def forward(self, x, edge_index, batch):\n",
    "        x = self.conv1(x, edge_index)\n",
    "        x = x.relu()\n",
    "        x = self.conv2(x, edge_index)\n",
    "        x = x.relu()\n",
    "        x = self.conv3(x, edge_index)\n",
    "        x = x.relu()\n",
    "        \n",
    "        x = global_mean_pool(x, batch)\n",
    "        \n",
    "        x = F.dropout(x, p=0.5)\n",
    "        x = self.lin(x)\n",
    "        \n",
    "        return x"
   ]
  },
  {
   "cell_type": "code",
   "execution_count": 228,
   "metadata": {},
   "outputs": [
    {
     "data": {
      "text/plain": [
       "GCN(\n",
       "  (conv1): GraphSAGE(492, 32, num_layers=1)\n",
       "  (conv2): GraphSAGE(32, 32, num_layers=1)\n",
       "  (conv3): GraphSAGE(32, 32, num_layers=1)\n",
       "  (lin): Linear(in_features=32, out_features=3, bias=True)\n",
       ")"
      ]
     },
     "execution_count": 228,
     "metadata": {},
     "output_type": "execute_result"
    }
   ],
   "source": [
    "model = GCN(dataset, 32)\n",
    "model.to(torch.device(device))\n",
    "model"
   ]
  },
  {
   "cell_type": "markdown",
   "metadata": {},
   "source": [
    "Train Test method"
   ]
  },
  {
   "cell_type": "code",
   "execution_count": 229,
   "metadata": {},
   "outputs": [],
   "source": [
    "optimizer = torch.optim.Adam(model.parameters(), lr=0.01)\n",
    "criterion = torch.nn.CrossEntropyLoss()\n",
    "\n",
    "def train(model, loader):\n",
    "    model.train()\n",
    "    \n",
    "    for data in loader:\n",
    "        out = model(data.x, data.edge_index, data.batch)\n",
    "        loss = criterion(out, data.y)\n",
    "        loss.backward()\n",
    "        optimizer.step()\n",
    "        optimizer.zero_grad()\n",
    "    return out, loss\n",
    "\n",
    "@torch.no_grad()\n",
    "def test(model, loader):\n",
    "    model.eval()\n",
    "    correct = 0    \n",
    "    for data in loader:\n",
    "        out = model(data.x, data.edge_index, data.batch)\n",
    "        pred = out.argmax(dim=1)\n",
    "        correct += int((pred == data.y).sum())\n",
    "    return correct / len(loader.dataset)"
   ]
  },
  {
   "cell_type": "code",
   "execution_count": 243,
   "metadata": {},
   "outputs": [
    {
     "name": "stdout",
     "output_type": "stream",
     "text": [
      "Epoch: 001, Loss: 0.4068, Train Acc: 0.8549, Test Acc: 0.7907\n",
      "Epoch: 002, Loss: 0.3846, Train Acc: 0.8557, Test Acc: 0.7827\n",
      "Epoch: 003, Loss: 0.2939, Train Acc: 0.8726, Test Acc: 0.7740\n",
      "Epoch: 004, Loss: 0.2403, Train Acc: 0.8669, Test Acc: 0.7687\n",
      "Epoch: 005, Loss: 0.2463, Train Acc: 0.8726, Test Acc: 0.7733\n",
      "Epoch: 006, Loss: 0.3790, Train Acc: 0.8737, Test Acc: 0.7753\n",
      "Epoch: 007, Loss: 0.9762, Train Acc: 0.8789, Test Acc: 0.7807\n",
      "Epoch: 008, Loss: 0.1648, Train Acc: 0.8709, Test Acc: 0.7907\n",
      "Epoch: 009, Loss: 0.2875, Train Acc: 0.8891, Test Acc: 0.7913\n",
      "Epoch: 010, Loss: 0.3485, Train Acc: 0.8920, Test Acc: 0.7840\n",
      "Epoch: 011, Loss: 0.3006, Train Acc: 0.8863, Test Acc: 0.7847\n",
      "Epoch: 012, Loss: 0.2415, Train Acc: 0.8954, Test Acc: 0.7820\n",
      "Epoch: 013, Loss: 0.5250, Train Acc: 0.8931, Test Acc: 0.7753\n",
      "Epoch: 014, Loss: 0.2107, Train Acc: 0.8951, Test Acc: 0.7747\n",
      "Epoch: 015, Loss: 0.3701, Train Acc: 0.8991, Test Acc: 0.7960\n",
      "Epoch: 016, Loss: 0.0604, Train Acc: 0.9037, Test Acc: 0.7833\n",
      "Epoch: 017, Loss: 0.2235, Train Acc: 0.9003, Test Acc: 0.7793\n",
      "Epoch: 018, Loss: 0.2420, Train Acc: 0.9046, Test Acc: 0.7880\n",
      "Epoch: 019, Loss: 0.3330, Train Acc: 0.9191, Test Acc: 0.7880\n",
      "Epoch: 020, Loss: 0.2550, Train Acc: 0.9109, Test Acc: 0.7913\n"
     ]
    }
   ],
   "source": [
    "train_accs = []\n",
    "test_accs = []\n",
    "losses = []\n",
    "\n",
    "for epoch in range(1,21):\n",
    "    _, loss = train(model, train_loader)\n",
    "    train_acc = test(model, train_loader)\n",
    "    test_acc = test(model, test_loader)\n",
    "    \n",
    "    train_accs.append(train_acc)\n",
    "    test_accs.append(test_acc)\n",
    "    losses.append(loss)\n",
    "    \n",
    "    print(f'Epoch: {epoch:03d}, Loss: {loss:.4f}, Train Acc: {train_acc:.4f}, Test Acc: {test_acc:.4f}')"
   ]
  },
  {
   "cell_type": "markdown",
   "metadata": {},
   "source": [
    "Plot"
   ]
  },
  {
   "cell_type": "code",
   "execution_count": 248,
   "metadata": {},
   "outputs": [
    {
     "name": "stdout",
     "output_type": "stream",
     "text": [
      "[0.8548571428571429, 0.8557142857142858, 0.8725714285714286, 0.8668571428571429, 0.8725714285714286, 0.8737142857142857, 0.8788571428571429, 0.8708571428571429, 0.8891428571428571, 0.892, 0.8862857142857142, 0.8954285714285715, 0.8931428571428571, 0.8951428571428571, 0.8991428571428571, 0.9037142857142857, 0.9002857142857142, 0.9045714285714286, 0.9191428571428572, 0.9108571428571428]\n",
      "[0.7906666666666666, 0.7826666666666666, 0.774, 0.7686666666666667, 0.7733333333333333, 0.7753333333333333, 0.7806666666666666, 0.7906666666666666, 0.7913333333333333, 0.784, 0.7846666666666666, 0.782, 0.7753333333333333, 0.7746666666666666, 0.796, 0.7833333333333333, 0.7793333333333333, 0.788, 0.788, 0.7913333333333333]\n",
      "[0.40681982040405273, 0.3845747411251068, 0.2938636839389801, 0.24028843641281128, 0.2462870478630066, 0.3790394365787506, 0.9761748313903809, 0.16481909155845642, 0.28754425048828125, 0.34853315353393555, 0.3005969226360321, 0.24148951470851898, 0.5249808430671692, 0.21070386469364166, 0.37007594108581543, 0.06039583310484886, 0.22345638275146484, 0.2419527769088745, 0.33295291662216187, 0.2549881041049957]\n"
     ]
    }
   ],
   "source": [
    "print(train_accs)\n",
    "print(test_accs)\n",
    "losses = [item.item() for item in losses]\n",
    "print(losses)"
   ]
  },
  {
   "cell_type": "code",
   "execution_count": 273,
   "metadata": {},
   "outputs": [
    {
     "data": {
      "text/plain": [
       "Text(0.5, 0, 'Epoch')"
      ]
     },
     "execution_count": 273,
     "metadata": {},
     "output_type": "execute_result"
    },
    {
     "data": {
      "image/png": "[encoded data removed]",
      "text/plain": [
       "<Figure size 800x500 with 2 Axes>"
      ]
     },
     "metadata": {},
     "output_type": "display_data"
    }
   ],
   "source": [
    "fig, (ax1, ax2) = plt.subplots(2, 1, figsize=(8,5))\n",
    "\n",
    "ax1.plot(train_accs, label='train accuracy')\n",
    "ax1.plot(test_accs, label='test accuracy')\n",
    "ax1.legend()\n",
    "ax1.set_title('Train Accuracy vs Test Accuracy', loc='left')\n",
    "ax2.plot(losses, color='red')\n",
    "ax2.set_title('Loss', loc='left')\n",
    "ax2.set_xlabel('Epoch')"
   ]
  },
  {
   "cell_type": "markdown",
   "metadata": {},
   "source": [
    "FREE GPU"
   ]
  },
  {
   "cell_type": "code",
   "execution_count": 225,
   "metadata": {},
   "outputs": [],
   "source": [
    "import gc\n",
    "\n",
    "model.cpu()\n",
    "del model\n",
    "gc.collect()\n",
    "torch.cuda.empty_cache()"
   ]
  },
  {
   "cell_type": "code",
   "execution_count": null,
   "metadata": {},
   "outputs": [],
   "source": []
  }
 ],
 "metadata": {
  "kernelspec": {
   "display_name": "venv",
   "language": "python",
   "name": "python3"
  },
  "language_info": {
   "codemirror_mode": {
    "name": "ipython",
    "version": 3
   },
   "file_extension": ".py",
   "mimetype": "text/x-python",
   "name": "python",
   "nbconvert_exporter": "python",
   "pygments_lexer": "ipython3",
   "version": "3.11.4"
  },
  "orig_nbformat": 4
 },
 "nbformat": 4,
 "nbformat_minor": 2
}
