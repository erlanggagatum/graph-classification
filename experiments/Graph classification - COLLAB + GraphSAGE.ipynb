{
 "cells": [
  {
   "cell_type": "markdown",
   "metadata": {},
   "source": [
    "# GraphSAGE experiment for graph classification\n",
    "\n",
    "Paper: https://proceedings.neurips.cc/paper/2017/file/5dd9db5e033da9c6fb5ba83c7a7ebea9-Paper.pdf\n",
    "<br>Article: https://medium.com/p/a9e7f9ecf9d7"
   ]
  },
  {
   "cell_type": "code",
   "execution_count": 168,
   "metadata": {},
   "outputs": [],
   "source": [
    "import torch\n",
    "import torch_geometric\n",
    "from torch_geometric.datasets import TUDataset\n",
    "from torch_geometric.loader import DataLoader\n",
    "\n",
    "import numpy as np\n",
    "import matplotlib.pyplot as plt\n",
    "import pandas as pd\n",
    "import math\n",
    "import random"
   ]
  },
  {
   "cell_type": "code",
   "execution_count": 169,
   "metadata": {},
   "outputs": [],
   "source": [
    "dataset = TUDataset(root=\"../data/TUDataset\", name='COLLAB')"
   ]
  },
  {
   "cell_type": "code",
   "execution_count": 3,
   "metadata": {},
   "outputs": [
    {
     "data": {
      "text/plain": [
       "'cuda:0'"
      ]
     },
     "execution_count": 3,
     "metadata": {},
     "output_type": "execute_result"
    }
   ],
   "source": [
    "# set CUDA\n",
    "device = \"cuda:0\" if (torch.cuda.is_available()) else \"cpu\"\n",
    "device"
   ]
  },
  {
   "cell_type": "markdown",
   "metadata": {},
   "source": [
    "Preprocessing (degree)"
   ]
  },
  {
   "cell_type": "code",
   "execution_count": 187,
   "metadata": {},
   "outputs": [],
   "source": [
    "max_degree = 0\n",
    "degs = []\n",
    "for data in dataset:\n",
    "    deg = torch_geometric.utils.degree(data.edge_index[1], num_nodes=data.num_nodes)\n",
    "    degs.extend(deg.numpy())\n",
    "    max_degree = max(max_degree, max(deg).item())\n",
    "# assign to one hot degree for each data (OneHotDegree receive maximum degree parameter)\n",
    "dataset.transform = torch_geometric.transforms.OneHotDegree(int(max_degree))"
   ]
  },
  {
   "cell_type": "markdown",
   "metadata": {},
   "source": [
    "EDA"
   ]
  },
  {
   "cell_type": "code",
   "execution_count": 55,
   "metadata": {},
   "outputs": [],
   "source": [
    "dict_degs = {}\n",
    "for d in degs:\n",
    "    if d not in dict_degs:\n",
    "        dict_degs[d] = 1\n",
    "    else:\n",
    "        dict_degs[d] += 1\n",
    "        \n",
    "list_degs = []\n",
    "list_num_degs = []\n",
    "\n",
    "for d in dict_degs:\n",
    "    list_degs.append(d)\n",
    "    list_num_degs.append(dict_degs[d])"
   ]
  },
  {
   "cell_type": "code",
   "execution_count": 59,
   "metadata": {},
   "outputs": [],
   "source": [
    "df_degs = pd.DataFrame(list(zip(list_degs, list_num_degs)), columns =['degree', 'count'])"
   ]
  },
  {
   "cell_type": "code",
   "execution_count": 89,
   "metadata": {},
   "outputs": [
    {
     "data": {
      "text/html": [
       "<div>\n",
       "<style scoped>\n",
       "    .dataframe tbody tr th:only-of-type {\n",
       "        vertical-align: middle;\n",
       "    }\n",
       "\n",
       "    .dataframe tbody tr th {\n",
       "        vertical-align: top;\n",
       "    }\n",
       "\n",
       "    .dataframe thead th {\n",
       "        text-align: right;\n",
       "    }\n",
       "</style>\n",
       "<table border=\"1\" class=\"dataframe\">\n",
       "  <thead>\n",
       "    <tr style=\"text-align: right;\">\n",
       "      <th></th>\n",
       "      <th>degree</th>\n",
       "      <th>count</th>\n",
       "    </tr>\n",
       "  </thead>\n",
       "  <tbody>\n",
       "    <tr>\n",
       "      <th>235</th>\n",
       "      <td>238.0</td>\n",
       "      <td>37231</td>\n",
       "    </tr>\n",
       "  </tbody>\n",
       "</table>\n",
       "</div>"
      ],
      "text/plain": [
       "     degree  count\n",
       "235   238.0  37231"
      ]
     },
     "execution_count": 89,
     "metadata": {},
     "output_type": "execute_result"
    }
   ],
   "source": [
    "df_degs[df_degs['count'] == 37231.0]"
   ]
  },
  {
   "cell_type": "code",
   "execution_count": 103,
   "metadata": {},
   "outputs": [
    {
     "data": {
      "text/html": [
       "<div>\n",
       "<style scoped>\n",
       "    .dataframe tbody tr th:only-of-type {\n",
       "        vertical-align: middle;\n",
       "    }\n",
       "\n",
       "    .dataframe tbody tr th {\n",
       "        vertical-align: top;\n",
       "    }\n",
       "\n",
       "    .dataframe thead th {\n",
       "        text-align: right;\n",
       "    }\n",
       "</style>\n",
       "<table border=\"1\" class=\"dataframe\">\n",
       "  <thead>\n",
       "    <tr style=\"text-align: right;\">\n",
       "      <th></th>\n",
       "      <th>degree</th>\n",
       "      <th>count</th>\n",
       "    </tr>\n",
       "  </thead>\n",
       "  <tbody>\n",
       "    <tr>\n",
       "      <th>0</th>\n",
       "      <td>1.0</td>\n",
       "      <td>1796</td>\n",
       "    </tr>\n",
       "    <tr>\n",
       "      <th>1</th>\n",
       "      <td>2.0</td>\n",
       "      <td>5747</td>\n",
       "    </tr>\n",
       "    <tr>\n",
       "      <th>2</th>\n",
       "      <td>3.0</td>\n",
       "      <td>8594</td>\n",
       "    </tr>\n",
       "    <tr>\n",
       "      <th>3</th>\n",
       "      <td>4.0</td>\n",
       "      <td>9397</td>\n",
       "    </tr>\n",
       "    <tr>\n",
       "      <th>4</th>\n",
       "      <td>5.0</td>\n",
       "      <td>9599</td>\n",
       "    </tr>\n",
       "  </tbody>\n",
       "</table>\n",
       "</div>"
      ],
      "text/plain": [
       "   degree  count\n",
       "0     1.0   1796\n",
       "1     2.0   5747\n",
       "2     3.0   8594\n",
       "3     4.0   9397\n",
       "4     5.0   9599"
      ]
     },
     "execution_count": 103,
     "metadata": {},
     "output_type": "execute_result"
    }
   ],
   "source": [
    "df_degs = df_degs.sort_values(by='degree').reset_index(drop=True)\n",
    "df_degs.head()"
   ]
  },
  {
   "cell_type": "code",
   "execution_count": 108,
   "metadata": {},
   "outputs": [
    {
     "data": {
      "text/plain": [
       "<BarContainer object of 369 artists>"
      ]
     },
     "execution_count": 108,
     "metadata": {},
     "output_type": "execute_result"
    },
    {
     "data": {
      "image/png": "[encoded data removed]",
      "text/plain": [
       "<Figure size 1000x500 with 1 Axes>"
      ]
     },
     "metadata": {},
     "output_type": "display_data"
    }
   ],
   "source": [
    "fig, ax = plt.subplots(figsize=(10,5))\n",
    "ax.set_xlabel('degree')\n",
    "ax.set_ylabel('count')\n",
    "ax.set_title('Number of degree')\n",
    "plt.bar(df_degs['degree'],\n",
    "        df_degs['count'])"
   ]
  },
  {
   "cell_type": "markdown",
   "metadata": {},
   "source": [
    "Train Test Split"
   ]
  },
  {
   "cell_type": "code",
   "execution_count": 163,
   "metadata": {},
   "outputs": [],
   "source": [
    "def train_test_split(dataset, ratio):\n",
    "    random.shuffle(dataset)\n",
    "    return dataset[:math.ceil(len(dataset) * ratio)], dataset[math.ceil(len(dataset) * ratio):]"
   ]
  },
  {
   "cell_type": "code",
   "execution_count": 164,
   "metadata": {},
   "outputs": [],
   "source": [
    "cuda_dataset = []\n",
    "for data in dataset:\n",
    "    cuda_dataset.append(data.to(torch.device(device)))"
   ]
  },
  {
   "cell_type": "code",
   "execution_count": 170,
   "metadata": {},
   "outputs": [
    {
     "name": "stdout",
     "output_type": "stream",
     "text": [
      "train dataset len:  3500\n",
      "test dataset len:  1500\n"
     ]
    }
   ],
   "source": [
    "train_dataset, test_dataset = train_test_split(cuda_dataset, 0.7)\n",
    "print('train dataset len: ', len(train_dataset))\n",
    "print('test dataset len: ', len(test_dataset))"
   ]
  },
  {
   "cell_type": "code",
   "execution_count": 171,
   "metadata": {},
   "outputs": [],
   "source": [
    "train_loader = DataLoader(train_dataset, batch_size=32, shuffle=True)\n",
    "test_loader = DataLoader(test_dataset, batch_size=32, shuffle=True)"
   ]
  },
  {
   "cell_type": "code",
   "execution_count": 172,
   "metadata": {},
   "outputs": [
    {
     "data": {
      "text/plain": [
       "Data(edge_index=[2, 858], y=[1], num_nodes=54, x=[54, 492])"
      ]
     },
     "execution_count": 172,
     "metadata": {},
     "output_type": "execute_result"
    }
   ],
   "source": [
    "train_dataset[0]"
   ]
  },
  {
   "cell_type": "code",
   "execution_count": 181,
   "metadata": {},
   "outputs": [
    {
     "name": "stdout",
     "output_type": "stream",
     "text": [
      "tensor([1, 2, 0, 2, 0, 0, 1, 0, 0, 1, 2, 2, 2, 0, 2, 0, 0, 0, 0, 2, 0, 0, 0, 0,\n",
      "        0, 0, 0, 2, 0, 0, 0, 0], device='cuda:0')\n",
      "tensor([2, 1, 2, 0, 0, 2, 1, 2, 2, 0, 0, 2, 0, 2, 1, 1, 0, 0, 2, 0, 2, 2, 0, 2,\n",
      "        2, 1, 0, 0, 0, 2, 0, 0], device='cuda:0')\n"
     ]
    }
   ],
   "source": [
    "for tl in train_loader:\n",
    "    print(tl.y)\n",
    "    break\n",
    "for tl in test_loader:\n",
    "    print(tl.y)\n",
    "    break"
   ]
  },
  {
   "cell_type": "markdown",
   "metadata": {},
   "source": [
    "Building Model"
   ]
  },
  {
   "cell_type": "code",
   "execution_count": 183,
   "metadata": {},
   "outputs": [],
   "source": [
    "from torch.nn import Linear\n",
    "import torch.nn.functional as F\n",
    "from torch_geometric.nn import GCNConv\n",
    "from torch_geometric.nn import GraphSAGE\n",
    "from torch_geometric.nn import global_mean_pool"
   ]
  },
  {
   "cell_type": "code",
   "execution_count": 215,
   "metadata": {},
   "outputs": [],
   "source": [
    "class GCN(torch.nn.Module):\n",
    "    def __init__(self, dataset, hidden_channels):\n",
    "        super(GCN, self).__init__()\n",
    "        torch.manual_seed(12345)\n",
    "        self.conv1 = GraphSAGE(dataset.num_node_features, hidden_channels, 2)\n",
    "        self.conv2 = GraphSAGE(hidden_channels, hidden_channels, 2)\n",
    "        self.conv3 = GraphSAGE(hidden_channels, hidden_channels, 3)\n",
    "        self.lin = Linear(hidden_channels, dataset.num_classes)\n",
    "    \n",
    "    def forward(self, x, edge_index, batch):\n",
    "        x = self.conv1(x, edge_index)\n",
    "        x = x.relu()\n",
    "        x = self.conv2(x, edge_index)\n",
    "        x = x.relu()\n",
    "        x = self.conv3(x, edge_index)\n",
    "        x = x.relu()\n",
    "        \n",
    "        x = global_mean_pool(x, batch)\n",
    "        \n",
    "        x = F.dropout(x, p=0.5)\n",
    "        x = self.lin(x)\n",
    "        \n",
    "        return x"
   ]
  },
  {
   "cell_type": "code",
   "execution_count": 216,
   "metadata": {},
   "outputs": [
    {
     "data": {
      "text/plain": [
       "GCN(\n",
       "  (conv1): GraphSAGE(492, 16, num_layers=2)\n",
       "  (conv2): GraphSAGE(16, 16, num_layers=2)\n",
       "  (conv3): GraphSAGE(16, 16, num_layers=2)\n",
       "  (lin): Linear(in_features=16, out_features=3, bias=True)\n",
       ")"
      ]
     },
     "execution_count": 216,
     "metadata": {},
     "output_type": "execute_result"
    }
   ],
   "source": [
    "model = GCN(dataset, 16)\n",
    "model.to(torch.device(device))\n",
    "model"
   ]
  },
  {
   "cell_type": "markdown",
   "metadata": {},
   "source": [
    "Train Test method"
   ]
  },
  {
   "cell_type": "code",
   "execution_count": 210,
   "metadata": {},
   "outputs": [],
   "source": [
    "optimizer = torch.optim.Adam(model.parameters(), lr=0.01)\n",
    "criterion = torch.nn.CrossEntropyLoss()\n",
    "\n",
    "def train(model, loader):\n",
    "    model.train()\n",
    "    \n",
    "    for data in loader:\n",
    "        out = model(data.x, data.edge_index, data.batch)\n",
    "        loss = criterion(out, data.y)\n",
    "        loss.backward()\n",
    "        optimizer.step()\n",
    "        optimizer.zero_grad()\n",
    "    return out, loss\n",
    "\n",
    "@torch.no_grad()\n",
    "def test(model, loader):\n",
    "    model.eval()\n",
    "    correct = 0    \n",
    "    for data in loader:\n",
    "        out = model(data.x, data.edge_index, data.batch)\n",
    "        pred = out.argmax(dim=1)\n",
    "        correct += int((pred == data.y).sum())\n",
    "    return correct / len(loader.dataset)"
   ]
  },
  {
   "cell_type": "code",
   "execution_count": 212,
   "metadata": {},
   "outputs": [
    {
     "name": "stdout",
     "output_type": "stream",
     "text": [
      "Epoch: 001, Loss: 0.9600, Train Acc: 0.6094, Test Acc: 0.5980\n",
      "Epoch: 002, Loss: 1.1496, Train Acc: 0.6083, Test Acc: 0.6040\n",
      "Epoch: 003, Loss: 0.6303, Train Acc: 0.6091, Test Acc: 0.5940\n",
      "Epoch: 004, Loss: 0.8979, Train Acc: 0.6077, Test Acc: 0.5933\n",
      "Epoch: 005, Loss: 0.7264, Train Acc: 0.6063, Test Acc: 0.5967\n",
      "Epoch: 006, Loss: 1.1900, Train Acc: 0.6054, Test Acc: 0.5993\n",
      "Epoch: 007, Loss: 1.0435, Train Acc: 0.6123, Test Acc: 0.5973\n",
      "Epoch: 008, Loss: 0.9294, Train Acc: 0.6120, Test Acc: 0.6053\n",
      "Epoch: 009, Loss: 0.4620, Train Acc: 0.6091, Test Acc: 0.5920\n",
      "Epoch: 010, Loss: 0.9956, Train Acc: 0.6071, Test Acc: 0.5993\n",
      "Epoch: 011, Loss: 1.0970, Train Acc: 0.6109, Test Acc: 0.6027\n",
      "Epoch: 012, Loss: 0.8279, Train Acc: 0.6063, Test Acc: 0.5973\n",
      "Epoch: 013, Loss: 0.8929, Train Acc: 0.6000, Test Acc: 0.5980\n",
      "Epoch: 014, Loss: 0.8922, Train Acc: 0.6089, Test Acc: 0.5967\n",
      "Epoch: 015, Loss: 0.6459, Train Acc: 0.6060, Test Acc: 0.5967\n",
      "Epoch: 016, Loss: 0.8842, Train Acc: 0.6089, Test Acc: 0.5900\n",
      "Epoch: 017, Loss: 0.9875, Train Acc: 0.6074, Test Acc: 0.5960\n",
      "Epoch: 018, Loss: 1.0283, Train Acc: 0.6069, Test Acc: 0.5940\n",
      "Epoch: 019, Loss: 0.9961, Train Acc: 0.6103, Test Acc: 0.5993\n",
      "Epoch: 020, Loss: 0.7521, Train Acc: 0.6083, Test Acc: 0.5953\n",
      "Epoch: 021, Loss: 1.1653, Train Acc: 0.6103, Test Acc: 0.6080\n",
      "Epoch: 022, Loss: 0.7868, Train Acc: 0.6089, Test Acc: 0.5973\n",
      "Epoch: 023, Loss: 1.0474, Train Acc: 0.6060, Test Acc: 0.5960\n",
      "Epoch: 024, Loss: 0.7050, Train Acc: 0.6071, Test Acc: 0.5993\n",
      "Epoch: 025, Loss: 0.8472, Train Acc: 0.6074, Test Acc: 0.6007\n",
      "Epoch: 026, Loss: 1.0259, Train Acc: 0.6069, Test Acc: 0.5887\n",
      "Epoch: 027, Loss: 0.9293, Train Acc: 0.6097, Test Acc: 0.5980\n",
      "Epoch: 028, Loss: 0.9598, Train Acc: 0.6071, Test Acc: 0.5953\n",
      "Epoch: 029, Loss: 0.7452, Train Acc: 0.6097, Test Acc: 0.5973\n"
     ]
    }
   ],
   "source": [
    "for epoch in range(1,30):\n",
    "    _, loss = train(model, train_loader)\n",
    "    train_acc = test(model, train_loader)\n",
    "    test_acc = test(model, test_loader)\n",
    "    print(f'Epoch: {epoch:03d}, Loss: {loss:.4f}, Train Acc: {train_acc:.4f}, Test Acc: {test_acc:.4f}')"
   ]
  },
  {
   "cell_type": "code",
   "execution_count": null,
   "metadata": {},
   "outputs": [],
   "source": []
  }
 ],
 "metadata": {
  "kernelspec": {
   "display_name": "venv",
   "language": "python",
   "name": "python3"
  },
  "language_info": {
   "codemirror_mode": {
    "name": "ipython",
    "version": 3
   },
   "file_extension": ".py",
   "mimetype": "text/x-python",
   "name": "python",
   "nbconvert_exporter": "python",
   "pygments_lexer": "ipython3",
   "version": "3.11.4"
  },
  "orig_nbformat": 4
 },
 "nbformat": 4,
 "nbformat_minor": 2
}
